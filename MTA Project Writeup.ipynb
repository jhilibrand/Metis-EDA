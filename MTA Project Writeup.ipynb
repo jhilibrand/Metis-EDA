{
 "cells": [
  {
   "cell_type": "markdown",
   "metadata": {},
   "source": [
    "# How \"Back to the Office\" is NYC? "
   ]
  },
  {
   "cell_type": "markdown",
   "metadata": {},
   "source": [
    "## Abstract\n",
    "\n",
    "The goal of this project was to assess to what extent commercial neighborhoods in NYC are \"back to the office.\" Using  MTA turnstile data and MTA station data, I created a neighborhood by neighborhood comparison of \"back to the office\" trends. "
   ]
  },
  {
   "cell_type": "markdown",
   "metadata": {},
   "source": [
    "## Design\n",
    "\n",
    "The MTA subway data contains turnstile readings from 379 stations. In order to have a more precise view into commercial workplaces, I aimed to select of subset of these stations that represent \"commuters\" going into the office. To create this list, I chose stations with: \n",
    "* High exit flow on weekday mornings (as people arrive to their offices, and leave the subway) \n",
    "* High entry flow on weekday evenings (as people leave their offices to head home and enter the subway)\n",
    "Merging the two lists of the 50 highest \"entry\" stations and 50 highest \"exit\" stations, gave me 65 stations to split into commute zones (meaning 35 of the highest \"entry\" stations also were in the highest \"exit stations). These 65 stations represent ~17% of overall MTA stations, but account for ~40% of traffic on the subway. \n",
    "\n",
    "To assess COVID's impact on MTA ridership, I defined three discrete timeframes: \n",
    "1. Pre-COVID: April & May 2019 \n",
    "2. Peak-COVID: April & May 2020\n",
    "3. Late-COVID: April & May 2021\n",
    "\n",
    "Each timeframe  consists of 9 weeks of data. The Pre-COVID timeframe was chosen to be April & May of 2019 to control for any seasonality effects. The Peak-COVID timeframe represents the initial peak of new cases per day and higheset death rate. The Post-COVID timeframe is our most recent data, and also respresents immediately after vaccines became widely available (in late March).  \n",
    "\n",
    "![title](Commute_zone_slide.png)\n"
   ]
  },
  {
   "cell_type": "markdown",
   "metadata": {},
   "source": [
    "## Data \n",
    "\n",
    "MTA turnstile data is published in weekly batches, and is represented as essentially odometer readings from individual turnstiles in various stations, remote units, control areas, and subunit positions. By grouping these odometer reaings per turnstile, and measuring the change in reading, I was able to establish the traffic through each turnstile, and thus each station. MTA station data (and NYC shape files) allowed me to graphically represent the locations of various stations, and group these into \"Commute zones.\" If a set of \"commute zone\" stations was two or fewer, I dropped then from my neighborhood by neighborhood analysis, to control for outlier stations (for example, St.George, which connects all of Staten Island to the ferry, had high traffic, but did not represent a commercial hub). \n",
    "\n"
   ]
  },
  {
   "cell_type": "markdown",
   "metadata": {},
   "source": [
    "## Algorithms\n",
    "\n",
    "For each \"Commute zone\" area I created the below graphic (the below slide only shows the Midtown area). I created a graphical representation of the grouping of stations belonging to this commute zone (plotting each station location). I then have a table comparing the raw number of riders during Pre, Peak, and Late COVID timeframes, as well as what percent of total MTA ridership this represented. Below this, I have two graphs- on the left is the rolling 5 day average of raw ridership in the commute zone versus the MTA overall since vaccines became widely availble. On the right is, over the same timeframe, the rolling 5 day ridership in the commute zone and the overall MTA indexed to 100 (to graphically represent if the station is relatively outperforming). \n",
    " \n",
    " \n",
    " ![title](Midtown_slide.png)"
   ]
  },
  {
   "cell_type": "markdown",
   "metadata": {},
   "source": [
    "How do neighborhoods compare to each other? The below barchart aims to compare ridership across commute zones, indexed to each zone's Pre-COVID ridership levels. Harlem / Bronx region has recovered to ~40% of its Pre-COVID ridership, while Financial District was hit the hardest, and has recovered the least. \n",
    "\n",
    "![title](Barchart_sc.png)"
   ]
  },
  {
   "cell_type": "markdown",
   "metadata": {},
   "source": [
    "## Tools\n",
    "* SQL, Numpy, and Pandas for data exploration \n",
    "* Matplotlib, Geopandas, and Seaborn for visualizations  \n",
    "\n"
   ]
  },
  {
   "cell_type": "markdown",
   "metadata": {},
   "source": [
    "## Communication \n",
    "\n",
    "This write up corresponds to my presentation \"MTA Data and the Transition Back to the Office\" "
   ]
  },
  {
   "cell_type": "code",
   "execution_count": null,
   "metadata": {},
   "outputs": [],
   "source": []
  },
  {
   "cell_type": "code",
   "execution_count": null,
   "metadata": {},
   "outputs": [],
   "source": []
  }
 ],
 "metadata": {
  "kernelspec": {
   "display_name": "Python 3",
   "language": "python",
   "name": "python3"
  },
  "language_info": {
   "codemirror_mode": {
    "name": "ipython",
    "version": 3
   },
   "file_extension": ".py",
   "mimetype": "text/x-python",
   "name": "python",
   "nbconvert_exporter": "python",
   "pygments_lexer": "ipython3",
   "version": "3.8.5"
  }
 },
 "nbformat": 4,
 "nbformat_minor": 4
}
